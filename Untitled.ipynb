{
 "cells": [
  {
   "cell_type": "markdown",
   "metadata": {},
   "source": [
    "This sets up the connect to the fitbit server. All data needed can be called from auth2_client."
   ]
  },
  {
   "cell_type": "code",
   "execution_count": 1,
   "metadata": {},
   "outputs": [
    {
     "name": "stderr",
     "output_type": "stream",
     "text": [
      "[03/Nov/2018:20:46:27] ENGINE Listening for SIGTERM.\n",
      "[03/Nov/2018:20:46:27] ENGINE Listening for SIGHUP.\n",
      "[03/Nov/2018:20:46:27] ENGINE Listening for SIGUSR1.\n",
      "[03/Nov/2018:20:46:27] ENGINE Bus STARTING\n",
      "CherryPy Checker:\n",
      "The Application mounted at '' has an empty config.\n",
      "\n",
      "[03/Nov/2018:20:46:27] ENGINE Started monitor thread 'Autoreloader'.\n",
      "[03/Nov/2018:20:46:27] ENGINE Serving on http://127.0.0.1:8080\n",
      "[03/Nov/2018:20:46:27] ENGINE Bus STARTED\n"
     ]
    },
    {
     "name": "stdout",
     "output_type": "stream",
     "text": [
      "127.0.0.1 - - [03/Nov/2018:20:46:36] \"GET /?code=cfae68e32417c61c37acb01c5c0c3fb667a263b1&state=YkbeafsLrfqAfqsIglxHLbuLq92iPw HTTP/1.1\" 200 122 \"\" \"Mozilla/5.0 (X11; Ubuntu; Linux x86_64; rv:63.0) Gecko/20100101 Firefox/63.0\"\n",
      "127.0.0.1 - - [03/Nov/2018:20:46:36] \"GET /favicon.ico HTTP/1.1\" 200 1406 \"\" \"Mozilla/5.0 (X11; Ubuntu; Linux x86_64; rv:63.0) Gecko/20100101 Firefox/63.0\"\n"
     ]
    },
    {
     "name": "stderr",
     "output_type": "stream",
     "text": [
      "[03/Nov/2018:20:46:37] ENGINE Bus STOPPING\n",
      "[03/Nov/2018:20:46:42] ENGINE HTTP Server cherrypy._cpwsgi_server.CPWSGIServer(('127.0.0.1', 8080)) shut down\n",
      "[03/Nov/2018:20:46:42] ENGINE Stopped thread 'Autoreloader'.\n",
      "[03/Nov/2018:20:46:42] ENGINE Bus STOPPED\n",
      "[03/Nov/2018:20:46:42] ENGINE Bus EXITING\n",
      "[03/Nov/2018:20:46:42] ENGINE Bus EXITED\n",
      "[03/Nov/2018:20:46:42] ENGINE Waiting for child threads to terminate...\n"
     ]
    }
   ],
   "source": [
    "import fitbit\n",
    "import gather_keys_oauth2 as Oauth2\n",
    "import pandas as pd \n",
    "import datetime\n",
    "\n",
    "CLIENT_ID = '22D58N'\n",
    "CLIENT_SECRET = '8d0f0ce5f500a4c3f3655cfa7744d084'\n",
    "\n",
    "server = Oauth2.OAuth2Server(CLIENT_ID, CLIENT_SECRET)\n",
    "server.browser_authorize()\n",
    "\n",
    "ACCESS_TOKEN = str(server.fitbit.client.session.token['access_token'])\n",
    "REFRESH_TOKEN = str(server.fitbit.client.session.token['refresh_token'])\n",
    "\n",
    "auth2_client = fitbit.Fitbit(CLIENT_ID, CLIENT_SECRET, oauth2=True, access_token=ACCESS_TOKEN, refresh_token=REFRESH_TOKEN)\n"
   ]
  },
  {
   "cell_type": "markdown",
   "metadata": {},
   "source": [
    "This is getting all the days that weight was recorded (roughly ever 15 days). Then it stores it into a csv file for processing later."
   ]
  },
  {
   "cell_type": "code",
   "execution_count": null,
   "metadata": {},
   "outputs": [],
   "source": [
    "#today = str(datetime.datetime.now().strftime(\"%Y%m%d\"))\n",
    "yesterday = str((datetime.datetime.now() - datetime.timedelta(days=1)).strftime(\"%Y%m%d\"))\n",
    "\n",
    "\n",
    "weights = pd.DataFrame(columns=['Date','Weight'])\n",
    "for h in range(6,11): #do 1,6 first\n",
    "    for i in range(1,32):\n",
    "        if((h != 2 or (i < 29)) and ((h!=4 and h!=6 and h!=9 and h!=11) or (i < 31))):\n",
    "            day_weight = auth2_client.body(date='2018-' + str(h) + '-' + str(i))[\"body\"][\"weight\"]\n",
    "            if(day_weight != 0):\n",
    "                print(day_weight)\n",
    "                print(\"Date: \" + str(h) + \"-\" + str(i) + \"-2018\")\n",
    "                temp = pd.DataFrame([[\"2018-\" + str(h) + \"-\" + str(i), day_weight]], columns=['Date','Weight'])\n",
    "                weights = weights.append(temp)\n",
    "                \n",
    "weights.to_csv(\"weights2.csv\")\n",
    "                \n",
    "#Calories\n",
    "#print(auth2_client.activities(date='2018-10-31')[\"summary\"][\"caloriesOut\"])\n",
    "#for i in range (1,32):\n",
    " # print(auth2_client.activities(date='2018-10-' + str(i))[\"summary\"][\"caloriesOut\"])"
   ]
  },
  {
   "cell_type": "code",
   "execution_count": 19,
   "metadata": {},
   "outputs": [
    {
     "name": "stdout",
     "output_type": "stream",
     "text": [
      "27.33\n"
     ]
    }
   ],
   "source": [
    "print(auth2_client.body(date=\"2018-10-29\")[\"body\"][\"bmi\"])"
   ]
  },
  {
   "cell_type": "code",
   "execution_count": null,
   "metadata": {},
   "outputs": [],
   "source": []
  }
 ],
 "metadata": {
  "kernelspec": {
   "display_name": "Python 3",
   "language": "python",
   "name": "python3"
  },
  "language_info": {
   "codemirror_mode": {
    "name": "ipython",
    "version": 3
   },
   "file_extension": ".py",
   "mimetype": "text/x-python",
   "name": "python",
   "nbconvert_exporter": "python",
   "pygments_lexer": "ipython3",
   "version": "3.6.5"
  }
 },
 "nbformat": 4,
 "nbformat_minor": 2
}
