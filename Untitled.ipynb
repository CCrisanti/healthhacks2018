{
 "cells": [
  {
   "cell_type": "code",
   "execution_count": 1,
   "metadata": {},
   "outputs": [
    {
     "name": "stderr",
     "output_type": "stream",
     "text": [
      "[03/Nov/2018:13:43:48] ENGINE Listening for SIGTERM.\n",
      "[03/Nov/2018:13:43:48] ENGINE Listening for SIGHUP.\n",
      "[03/Nov/2018:13:43:48] ENGINE Listening for SIGUSR1.\n",
      "[03/Nov/2018:13:43:48] ENGINE Bus STARTING\n",
      "CherryPy Checker:\n",
      "The Application mounted at '' has an empty config.\n",
      "\n",
      "[03/Nov/2018:13:43:48] ENGINE Started monitor thread 'Autoreloader'.\n",
      "[03/Nov/2018:13:43:48] ENGINE Serving on http://127.0.0.1:8080\n",
      "[03/Nov/2018:13:43:48] ENGINE Bus STARTED\n"
     ]
    },
    {
     "name": "stdout",
     "output_type": "stream",
     "text": [
      "127.0.0.1 - - [03/Nov/2018:13:43:52] \"GET /?code=b5e944bb80fb1083f4581c104998313c64208d09&state=om6E4kFVfIkrYfrfEFZr0KHo1fcs3C HTTP/1.1\" 200 122 \"\" \"Mozilla/5.0 (X11; Ubuntu; Linux x86_64; rv:63.0) Gecko/20100101 Firefox/63.0\"\n",
      "127.0.0.1 - - [03/Nov/2018:13:43:52] \"GET /favicon.ico HTTP/1.1\" 304 - \"\" \"Mozilla/5.0 (X11; Ubuntu; Linux x86_64; rv:63.0) Gecko/20100101 Firefox/63.0\"\n"
     ]
    },
    {
     "name": "stderr",
     "output_type": "stream",
     "text": [
      "[03/Nov/2018:13:43:53] ENGINE Bus STOPPING\n",
      "[03/Nov/2018:13:43:58] ENGINE HTTP Server cherrypy._cpwsgi_server.CPWSGIServer(('127.0.0.1', 8080)) shut down\n",
      "[03/Nov/2018:13:43:58] ENGINE Stopped thread 'Autoreloader'.\n",
      "[03/Nov/2018:13:43:58] ENGINE Bus STOPPED\n",
      "[03/Nov/2018:13:43:58] ENGINE Bus EXITING\n",
      "[03/Nov/2018:13:43:58] ENGINE Bus EXITED\n",
      "[03/Nov/2018:13:43:58] ENGINE Waiting for child threads to terminate...\n"
     ]
    }
   ],
   "source": [
    "import fitbit\n",
    "import gather_keys_oauth2 as Oauth2\n",
    "import pandas as pd \n",
    "import datetime\n",
    "\n",
    "CLIENT_ID = '22D58G'\n",
    "CLIENT_SECRET = 'd8ac577afd3ce45529ca435a41a755ab'\n",
    "\n",
    "server = Oauth2.OAuth2Server(CLIENT_ID, CLIENT_SECRET)\n",
    "server.browser_authorize()\n",
    "\n",
    "ACCESS_TOKEN = str(server.fitbit.client.session.token['access_token'])\n",
    "REFRESH_TOKEN = str(server.fitbit.client.session.token['refresh_token'])\n",
    "\n",
    "auth2_client = fitbit.Fitbit(CLIENT_ID, CLIENT_SECRET, oauth2=True, access_token=ACCESS_TOKEN, refresh_token=REFRESH_TOKEN)"
   ]
  },
  {
   "cell_type": "code",
   "execution_count": 2,
   "metadata": {},
   "outputs": [],
   "source": [
    "yesterday = str((datetime.datetime.now() - datetime.timedelta(days=1)).strftime(\"%Y%m%d\"))\n",
    "\n",
    "yesterday2 = str((datetime.datetime.now() - datetime.timedelta(days=1)).strftime(\"%Y-%m-%d\"))\n",
    "\n",
    "today = str(datetime.datetime.now().strftime(\"%Y%m%d\"))\n",
    "\n",
    "fit_statsHR = auth2_client.intraday_time_series('activities/heart', base_date=yesterday2, detail_level='1sec')\n"
   ]
  },
  {
   "cell_type": "code",
   "execution_count": 3,
   "metadata": {},
   "outputs": [
    {
     "name": "stdout",
     "output_type": "stream",
     "text": [
      "{'activities-heart': [{'dateTime': '2018-11-02', 'value': {'customHeartRateZones': [], 'heartRateZones': [{'max': 99, 'min': 30, 'name': 'Out of Range'}, {'max': 138, 'min': 99, 'name': 'Fat Burn'}, {'max': 168, 'min': 138, 'name': 'Cardio'}, {'max': 220, 'min': 168, 'name': 'Peak'}]}}], 'activities-heart-intraday': {'dataset': [], 'datasetInterval': 1, 'datasetType': 'second'}}\n"
     ]
    }
   ],
   "source": [
    "print(fit_statsHR)"
   ]
  }
 ],
 "metadata": {
  "kernelspec": {
   "display_name": "Python 3",
   "language": "python",
   "name": "python3"
  },
  "language_info": {
   "codemirror_mode": {
    "name": "ipython",
    "version": 3
   },
   "file_extension": ".py",
   "mimetype": "text/x-python",
   "name": "python",
   "nbconvert_exporter": "python",
   "pygments_lexer": "ipython3",
   "version": "3.6.5"
  }
 },
 "nbformat": 4,
 "nbformat_minor": 2
}
